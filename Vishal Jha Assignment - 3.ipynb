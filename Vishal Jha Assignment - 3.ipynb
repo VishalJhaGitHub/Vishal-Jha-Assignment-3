{
 "cells": [
  {
   "cell_type": "code",
   "execution_count": 1,
   "id": "b095de58-23c4-4fae-bc72-40e641823c2e",
   "metadata": {},
   "outputs": [],
   "source": [
    "#1. Explain with an example each when to use a for loop and a while loop.\n",
    "\n",
    "#Ans \n",
    "\n",
    "#For loop: A for loop is a control flow statement that executes code repeatedly for a particular number of iterations.In this control flow statement the keyword used is for.The for loop is used when the number of iterations is already known.\n",
    "\n",
    "#While loop: A loop that executes a single statement or a group of statements for the given true condition. The keyword used to represent this loop is \"while\". A \"while\" loop is used when the number of iterations is unknown. The statement repeats itself till the boolean value becomes false. In a while loop the condition is tested at the start, also known as the pre-test loop"
   ]
  },
  {
   "cell_type": "code",
   "execution_count": 2,
   "id": "4339edf2-cf53-4de9-8284-3ea0d8f2fc86",
   "metadata": {},
   "outputs": [
    {
     "name": "stdout",
     "output_type": "stream",
     "text": [
      "1\n",
      "2\n",
      "3\n"
     ]
    }
   ],
   "source": [
    "#For loop Example \n",
    "\n",
    "n = [1, 2, 3]\n",
    "for i in n:\n",
    "    print(i)"
   ]
  },
  {
   "cell_type": "code",
   "execution_count": 3,
   "id": "6f49e888-c4f7-4413-a0f4-90550af698e0",
   "metadata": {},
   "outputs": [
    {
     "name": "stdout",
     "output_type": "stream",
     "text": [
      "1\n",
      "2\n",
      "3\n",
      "4\n",
      "5\n"
     ]
    }
   ],
   "source": [
    "#While loop Example\n",
    "\n",
    "i = 1\n",
    "while i < 6:\n",
    "    print(i)\n",
    "    i += 1"
   ]
  },
  {
   "cell_type": "code",
   "execution_count": 14,
   "id": "0568aa04-d710-4408-b1ad-dca6ab9ede1d",
   "metadata": {},
   "outputs": [
    {
     "name": "stdout",
     "output_type": "stream",
     "text": [
      "Sum of first 10 natural numbers:  55\n",
      "Product of first 10 natural numbers:  3628800\n"
     ]
    }
   ],
   "source": [
    "#2. Write a python program to print the sum and product of the first 10 natural numbers using for and while loop.\n",
    "\n",
    "#Ans\n",
    "\n",
    "# For Loop\n",
    "\n",
    "sum = 0\n",
    "product = 1\n",
    "for i in range(1, 11):\n",
    "    sum += i\n",
    "    product *= i\n",
    "print(\"Sum of first 10 natural numbers: \", sum)\n",
    "print(\"Product of first 10 natural numbers: \", product)"
   ]
  },
  {
   "cell_type": "code",
   "execution_count": 6,
   "id": "1c3936a0-47c9-4d81-aa7f-190bbf49b209",
   "metadata": {},
   "outputs": [
    {
     "name": "stdout",
     "output_type": "stream",
     "text": [
      "Sum of first 10 natural numbers:  55\n",
      "Product of first 10 natural numbers:  3628800\n"
     ]
    }
   ],
   "source": [
    "# While Loop\n",
    "\n",
    "sum = 0\n",
    "product = 1\n",
    "i = 1\n",
    "while i <= 10:\n",
    "    sum += i\n",
    "    product *= i\n",
    "    i += 1\n",
    "print(\"Sum of first 10 natural numbers: \", sum)\n",
    "print(\"Product of first 10 natural numbers: \", product)"
   ]
  },
  {
   "cell_type": "code",
   "execution_count": 11,
   "id": "78ac31ee-76b7-4214-ba27-ddab0820430f",
   "metadata": {},
   "outputs": [
    {
     "name": "stdin",
     "output_type": "stream",
     "text": [
      "Enter the number of units consumed in a month: 310\n"
     ]
    },
    {
     "name": "stdout",
     "output_type": "stream",
     "text": [
      "The electricity bill for the month is: Rs. 2250.0\n"
     ]
    }
   ],
   "source": [
    "#3. Create a python program to compute the electricity bill for a household.\n",
    "\n",
    "#The per-unit charges in rupees are as follows: For the first 100 units, the user will be charged Rs. 4.5 per unit, for the next 100 units, the user will be charged Rs. 6 per unit, and for the next 100 units, the user will be charged Rs. 10 per unit, After 300 units and above the user will be charged Rs. 20 per unit.\n",
    "\n",
    "#You are required to take the units of electricity consumed in a month from the user as input.\n",
    "\n",
    "#Your program must pass this test case: when the unit of electricity consumed by the user in a month is 310, the total electricity bill should be 2250.\n",
    "\n",
    "\n",
    "#Ans\n",
    "\n",
    "units = float(input(\"Enter the number of units consumed in a month:\"))\n",
    "if units <= 100:\n",
    "    bill = units * 4.5\n",
    "elif units <= 200:\n",
    "    bill = (100 * 4.5) + ((units - 100) * 6)\n",
    "elif units <= 300:\n",
    "    bill = (100 * 4.5) + (100 * 6) + ((units - 200) * 10)\n",
    "else:\n",
    "    bill = (100 * 4.5) + (100 * 6) + (100 * 10) + ((units - 300) * 20)\n",
    "print(\"The electricity bill for the month is: Rs.\",bill)\n"
   ]
  },
  {
   "cell_type": "code",
   "execution_count": 21,
   "id": "06a357c4-69e6-4ed3-9be7-b3e13c2b0fbb",
   "metadata": {},
   "outputs": [
    {
     "name": "stdout",
     "output_type": "stream",
     "text": [
      "Cubes using for loop: [2, 4, 5, 6, 8, 10, 12, 14, 15, 16, 18, 20, 22, 24, 25, 26, 28, 30, 32, 34, 35, 36, 38, 40, 42, 44, 45, 46, 48, 50, 52, 54, 55, 56, 58, 60, 62, 64, 65, 66, 68, 70, 72, 74, 75, 76, 78, 80, 82, 84, 85, 86, 88, 90, 92, 94, 95, 96, 98, 100]\n"
     ]
    }
   ],
   "source": [
    "#4. Create a list of numbers from 1 to 100. Use for loop and while loop to calculate the cube of each number and if the cube of that number is divisible by 4 or 5 then append that number in a list and print that list.\n",
    "\n",
    "#Ans\n",
    "\n",
    "#For loop\n",
    "cubes_for = []\n",
    "for i in range(1, 101):\n",
    "    cube = i**3\n",
    "    if cube % 4 == 0 or cube % 5 == 0:\n",
    "        cubes_for.append(i)\n",
    "\n",
    "print(\"Cubes using for loop:\", cubes_for)\n"
   ]
  },
  {
   "cell_type": "code",
   "execution_count": 22,
   "id": "a8cb4494-6d98-4cf3-9885-cc0fe908e6b9",
   "metadata": {},
   "outputs": [
    {
     "name": "stdout",
     "output_type": "stream",
     "text": [
      "Number of vowels in the string: 12\n"
     ]
    }
   ],
   "source": [
    "#While loop\n",
    "\n",
    "cubes_while = []\n",
    "i = 1\n",
    "while i <= 100:\n",
    "    cube = i**3\n",
    "    if cube % 4 == 0 or cube % 5 == 0:\n",
    "        cubes_while.append(i)\n",
    "    i += 1\n",
    "\n",
    "print(\"Cubes using while loop:\", cubes_while)\n"
   ]
  },
  {
   "cell_type": "code",
   "execution_count": 23,
   "id": "4729a13d-3328-45c8-bcbc-7150a3f33d0b",
   "metadata": {},
   "outputs": [
    {
     "name": "stdout",
     "output_type": "stream",
     "text": [
      "Number of vowels in the string: 12\n"
     ]
    }
   ],
   "source": [
    "#5. Write a program to filter count vowels in the below-given string. string = \"I want to become a data scientist\"\n",
    "\n",
    "#Ans\n",
    "\n",
    "string = \"I want to become a data scientist\"\n",
    "vowels = \"AEIOUaeiou\"\n",
    "count = 0\n",
    "\n",
    "for char in string:\n",
    "    if char in vowels:\n",
    "        count += 1\n",
    "\n",
    "print(\"Number of vowels in the string:\", count)"
   ]
  },
  {
   "cell_type": "code",
   "execution_count": null,
   "id": "fd4d15d0-1840-464c-a389-8c8533e70c44",
   "metadata": {},
   "outputs": [],
   "source": []
  }
 ],
 "metadata": {
  "kernelspec": {
   "display_name": "Python 3 (ipykernel)",
   "language": "python",
   "name": "python3"
  },
  "language_info": {
   "codemirror_mode": {
    "name": "ipython",
    "version": 3
   },
   "file_extension": ".py",
   "mimetype": "text/x-python",
   "name": "python",
   "nbconvert_exporter": "python",
   "pygments_lexer": "ipython3",
   "version": "3.10.8"
  }
 },
 "nbformat": 4,
 "nbformat_minor": 5
}
